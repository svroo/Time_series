{
 "cells": [
  {
   "cell_type": "code",
   "execution_count": 1,
   "metadata": {},
   "outputs": [],
   "source": [
    "# Execute if necessary\n",
    "# %%capture\n",
    "# !pip install numpy seaborn"
   ]
  },
  {
   "cell_type": "code",
   "execution_count": 6,
   "metadata": {},
   "outputs": [],
   "source": [
    "import numpy as np\n",
    "import seaborn as sns\n",
    "from typing import List"
   ]
  },
  {
   "cell_type": "markdown",
   "metadata": {},
   "source": [
    "# Práctica 5: Introducción a  Modelos Autoregresivos y de Medias Móviles"
   ]
  },
  {
   "cell_type": "markdown",
   "metadata": {},
   "source": [
    "__Instrucciones__: A continuación hay una lista de funciones que debe implementar o tareas que debe desarrollar. La descripción de cada una de ellas se encuentra en la definición de cada una de las funciones.\n",
    "\n",
    "La entrega de la práctica será en la siguiente sesión a menos que la indicación sea otra. La revisión iniciará al iniciar la sesión y únicamente podrá ser evaluada durante la duración de la sesión."
   ]
  },
  {
   "cell_type": "markdown",
   "metadata": {},
   "source": [
    "## Asignación 1\n",
    "\n",
    "Implementa la función descrita debajo para simular el proceso autoregresivo dado por\n",
    "\n",
    "$$\n",
    "X_t = \\phi_1 X_{t-1} + \\phi_2 X_{t-2} + \\cdots + \\phi_p X_{t-p} + W_t\n",
    "$$"
   ]
  },
  {
   "cell_type": "code",
   "execution_count": 24,
   "metadata": {},
   "outputs": [],
   "source": [
    "parameters: list[float]=[0.9] \n",
    "timesteps: int=100 \n",
    "mean: float=0.\n",
    "std: float=1."
   ]
  },
  {
   "cell_type": "code",
   "execution_count": 25,
   "metadata": {},
   "outputs": [],
   "source": [
    "white_noise = np.random.normal(\n",
    "        loc = mean,\n",
    "        scale = std\n",
    "        # size = timesteps\n",
    "    )"
   ]
  },
  {
   "cell_type": "code",
   "execution_count": 49,
   "metadata": {},
   "outputs": [],
   "source": [
    "aux = np.zeros(timesteps)\n",
    "\n",
    "for i in range(timesteps):\n",
    "    for phi in parameters:\n",
    "        # Generate withe noise\n",
    "        white_noise = np.random.normal(\n",
    "            loc=mean,\n",
    "            scale=std\n",
    "            # size = timesteps\n",
    "        )\n",
    "\n",
    "        if i == 0:\n",
    "            aux[i] = white_noise + aux[i]\n",
    "        else:\n",
    "            aux[i] = (phi * aux[i - 1]) + white_noise + aux[i]"
   ]
  },
  {
   "cell_type": "code",
   "execution_count": 51,
   "metadata": {},
   "outputs": [
    {
     "data": {
      "text/plain": [
       "<AxesSubplot:>"
      ]
     },
     "execution_count": 51,
     "metadata": {},
     "output_type": "execute_result"
    },
    {
     "data": {
      "image/png": "[encoded data removed]",
      "text/plain": [
       "<Figure size 432x288 with 1 Axes>"
      ]
     },
     "metadata": {
      "needs_background": "light"
     },
     "output_type": "display_data"
    }
   ],
   "source": [
    "sns.pointplot(aux)"
   ]
  },
  {
   "cell_type": "code",
   "execution_count": 46,
   "metadata": {},
   "outputs": [],
   "source": [
    "def simulate_auto_regressive_process(\n",
    "    parameters: List[float]=[0.9], \n",
    "    timesteps: int=100, \n",
    "    mean: float=0.,\n",
    "    std: float=1.\n",
    "    ):\n",
    "    \n",
    "    '''\n",
    "    This function simulates an AR(p) processwith mean 0.\n",
    "    \n",
    "    Inputs:\n",
    "        parameters: A list of the parameters phi used to compute the autoregression simulation.\n",
    "                    The first parameter is associated with the time t-1, the second with t-2 and so on.\n",
    "        timesteps: The number of timesteps to simulate. The first p values of the simulation must \n",
    "                    be set to zero (initial conditions).\n",
    "        mean: The mean used to sample the white noise\n",
    "        std: The standard deviation used to sample the white noise\n",
    "    Output:\n",
    "        The time series simulation\n",
    "    '''\n",
    "\n",
    "    aux = np.zeros(timesteps)\n",
    "\n",
    "    for i in range(timesteps):\n",
    "        for phi in parameters:\n",
    "            # Generate withe noise\n",
    "            white_noise = np.random.normal(\n",
    "                loc = mean,\n",
    "                scale = std\n",
    "                # size = timesteps\n",
    "            )\n",
    "            if i == 0:\n",
    "                aux[i] = white_noise + aux[i]\n",
    "            else:\n",
    "                aux[i] = (phi * aux[i-1]) + white_noise + aux[i]\n",
    "    \n",
    "    return aux"
   ]
  },
  {
   "cell_type": "markdown",
   "metadata": {},
   "source": [
    "## Asignación 2\n",
    "\n",
    "Grafique la simulación de la serie de tiempo del modelo autoregresivo con los parámetros indicados por el profesor. A la derecha de la serie de tiempo debe graficar el correlograma para el proceso simulado."
   ]
  },
  {
   "cell_type": "code",
   "execution_count": 48,
   "metadata": {},
   "outputs": [
    {
     "ename": "AttributeError",
     "evalue": "module 'seaborn' has no attribute 'plot'",
     "output_type": "error",
     "traceback": [
      "\u001b[1;31m---------------------------------------------------------------------------\u001b[0m",
      "\u001b[1;31mAttributeError\u001b[0m                            Traceback (most recent call last)",
      "\u001b[1;32mc:\\Users\\hp\\Documents\\VSCode\\Time_series\\Segundo parcial\\Practica 5\\5 - Introducción a Modelos Autoregresivos y de Medias Móviles.ipynb Cell 14\u001b[0m in \u001b[0;36m<cell line: 1>\u001b[1;34m()\u001b[0m\n\u001b[1;32m----> <a href='vscode-notebook-cell:/c%3A/Users/hp/Documents/VSCode/Time_series/Segundo%20parcial/Practica%205/5%20-%20Introducci%C3%B3n%20a%20Modelos%20Autoregresivos%20y%20de%20Medias%20M%C3%B3viles.ipynb#X30sZmlsZQ%3D%3D?line=0'>1</a>\u001b[0m sns\u001b[39m.\u001b[39;49mplot(simulate_auto_regressive_process())\n",
      "\u001b[1;31mAttributeError\u001b[0m: module 'seaborn' has no attribute 'plot'"
     ]
    }
   ],
   "source": []
  },
  {
   "cell_type": "markdown",
   "metadata": {},
   "source": [
    "## Asignación 3\n",
    "\n",
    "Implementa la función descrita debajo para simular el proceso de medias móviles dado \n",
    "\n",
    "$$\n",
    "X_t = W_t + \\theta_1 W_{t-1} + \\theta_2 W_{t-2} + \\cdots + \\theta_q W_{t-q}\n",
    "$$"
   ]
  },
  {
   "cell_type": "code",
   "execution_count": 4,
   "metadata": {},
   "outputs": [],
   "source": [
    "def simulate_moving_averages_process(\n",
    "    parameters: List[float]=[0.9], \n",
    "    timesteps: int=100, \n",
    "    mean: float=0.,\n",
    "    std: float=1.\n",
    "    ):\n",
    "    \n",
    "    '''\n",
    "    This function simulates an MA(q) process with mean 0.\n",
    "    \n",
    "    Inputs:\n",
    "        parameters: A list of the parameters theta used to compute the moving averages simulation\n",
    "        timesteps: The number of timesteps to simulate.\n",
    "        mean: The mean used to sample the white noise\n",
    "        std: The standard deviation used to sample the white noise\n",
    "    Output:\n",
    "        The time series simulation\n",
    "    '''\n",
    "    \n",
    "    return np.zeros(timesteps)"
   ]
  },
  {
   "cell_type": "markdown",
   "metadata": {},
   "source": [
    "## Asignación 2\n",
    "\n",
    "Grafique la simulación de la serie de tiempode medias móviles con los parámetros indicados por el profesor. A la derecha de la serie de tiempo debe graficar el correlograma para el proceso simulado."
   ]
  },
  {
   "cell_type": "code",
   "execution_count": null,
   "metadata": {},
   "outputs": [],
   "source": []
  }
 ],
 "metadata": {
  "kernelspec": {
   "display_name": "Python 3",
   "language": "python",
   "name": "python3"
  },
  "language_info": {
   "codemirror_mode": {
    "name": "ipython",
    "version": 3
   },
   "file_extension": ".py",
   "mimetype": "text/x-python",
   "name": "python",
   "nbconvert_exporter": "python",
   "pygments_lexer": "ipython3",
   "version": "3.10.5"
  }
 },
 "nbformat": 4,
 "nbformat_minor": 4
}
