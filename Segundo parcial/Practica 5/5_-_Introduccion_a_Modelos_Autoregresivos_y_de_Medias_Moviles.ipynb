{
 "cells": [
  {
   "cell_type": "code",
   "execution_count": 1,
   "metadata": {},
   "outputs": [],
   "source": [
    "# Execute if necessary\n",
    "# %%capture\n",
    "# !pip install numpy seaborn"
   ]
  },
  {
   "cell_type": "code",
   "execution_count": 2,
   "metadata": {},
   "outputs": [],
   "source": [
    "import numpy as np\n",
    "import seaborn as sns\n",
    "from typing import List"
   ]
  },
  {
   "cell_type": "markdown",
   "metadata": {},
   "source": [
    "# Práctica 5: Introducción a  Modelos Autoregresivos y de Medias Móviles"
   ]
  },
  {
   "cell_type": "markdown",
   "metadata": {},
   "source": [
    "__Instrucciones__: A continuación hay una lista de funciones que debe implementar o tareas que debe desarrollar. La descripción de cada una de ellas se encuentra en la definición de cada una de las funciones.\n",
    "\n",
    "La entrega de la práctica será en la siguiente sesión a menos que la indicación sea otra. La revisión iniciará al iniciar la sesión y únicamente podrá ser evaluada durante la duración de la sesión."
   ]
  },
  {
   "cell_type": "markdown",
   "metadata": {},
   "source": [
    "## Asignación 1\n",
    "\n",
    "Implementa la función descrita debajo para simular el proceso autoregresivo dado por\n",
    "\n",
    "$$\n",
    "X_t = \\phi_1 X_{t-1} + \\phi_2 X_{t-2} + \\cdots + \\phi_p X_{t-p} + W_t\n",
    "$$"
   ]
  },
  {
   "cell_type": "code",
   "execution_count": 3,
   "metadata": {},
   "outputs": [],
   "source": [
    "def simulate_auto_regressive_process(\n",
    "    parameters: List[float]=[0.9], \n",
    "    timesteps: int=100, \n",
    "    mean: float=0.,\n",
    "    std: float=1.\n",
    "    ):\n",
    "    \n",
    "    '''\n",
    "    This function simulates an AR(p) processwith mean 0.\n",
    "    \n",
    "    Inputs:\n",
    "        parameters: A list of the parameters phi used to compute the autoregression simulation.\n",
    "                    The first parameter is associated with the time t-1, the second with t-2 and so on.\n",
    "        timesteps: The number of timesteps to simulate. The first p values of the simulation must \n",
    "                    be set to zero (initial conditions).\n",
    "        mean: The mean used to sample the white noise\n",
    "        std: The standard deviation used to sample the white noise\n",
    "    Output:\n",
    "        The time series simulation\n",
    "    '''\n",
    "    \n",
    "    return np.zeros(timesteps)"
   ]
  },
  {
   "cell_type": "markdown",
   "metadata": {},
   "source": [
    "## Asignación 2\n",
    "\n",
    "Grafique la simulación de la serie de tiempo del modelo autoregresivo con los parámetros indicados por el profesor. A la derecha de la serie de tiempo debe graficar el correlograma para el proceso simulado."
   ]
  },
  {
   "cell_type": "markdown",
   "metadata": {},
   "source": [
    "## Asignación 3\n",
    "\n",
    "Implementa la función descrita debajo para simular el proceso de medias móviles dado \n",
    "\n",
    "$$\n",
    "X_t = W_t + \\theta_1 W_{t-1} + \\theta_2 W_{t-2} + \\cdots + \\theta_q W_{t-q}\n",
    "$$"
   ]
  },
  {
   "cell_type": "code",
   "execution_count": 4,
   "metadata": {},
   "outputs": [],
   "source": [
    "def simulate_moving_averages_process(\n",
    "    parameters: List[float]=[0.9], \n",
    "    timesteps: int=100, \n",
    "    mean: float=0.,\n",
    "    std: float=1.\n",
    "    ):\n",
    "    \n",
    "    '''\n",
    "    This function simulates an MA(q) process with mean 0.\n",
    "    \n",
    "    Inputs:\n",
    "        parameters: A list of the parameters theta used to compute the moving averages simulation\n",
    "        timesteps: The number of timesteps to simulate.\n",
    "        mean: The mean used to sample the white noise\n",
    "        std: The standard deviation used to sample the white noise\n",
    "    Output:\n",
    "        The time series simulation\n",
    "    '''\n",
    "    \n",
    "    return np.zeros(timesteps)"
   ]
  },
  {
   "cell_type": "markdown",
   "metadata": {},
   "source": [
    "## Asignación 2\n",
    "\n",
    "Grafique la simulación de la serie de tiempode medias móviles con los parámetros indicados por el profesor. A la derecha de la serie de tiempo debe graficar el correlograma para el proceso simulado."
   ]
  },
  {
   "cell_type": "code",
   "execution_count": null,
   "metadata": {},
   "outputs": [],
   "source": []
  }
 ],
 "metadata": {
  "kernelspec": {
   "display_name": "Python 3",
   "language": "python",
   "name": "python3"
  },
  "language_info": {
   "codemirror_mode": {
    "name": "ipython",
    "version": 3
   },
   "file_extension": ".py",
   "mimetype": "text/x-python",
   "name": "python",
   "nbconvert_exporter": "python",
   "pygments_lexer": "ipython3",
   "version": "3.8.11"
  }
 },
 "nbformat": 4,
 "nbformat_minor": 4
}
