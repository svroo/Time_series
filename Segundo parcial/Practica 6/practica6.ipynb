{
 "cells": [
  {
   "attachments": {},
   "cell_type": "markdown",
   "metadata": {},
   "source": [
    "# Practica 6 Modelo AR y Ma\n",
    "1. Diseñe una clase para un modelo **AR(p)** y una para un modelo **MA(q)**. Cada clase debe permitir\n",
    "    - Recibir el orden para el que será entrenado (p o q según seal el caso)\n",
    "    - Ajustar los parámetros usando los algoritmos de Durbin-Levinson o Innovations según seal el caso.\n",
    "    - Determinar el polinomio asociado a cada modelo y sus raices\n",
    "    - Determinar si el modelo es invertible o causal según sea el caso\n",
    "    - Obtener los valores de la **PACF** cuando aplique\n",
    "\n",
    "\n",
    "2. Probar las clases en un dataset (sin dataset aún)"
   ]
  }
 ],
 "metadata": {
  "language_info": {
   "name": "python"
  },
  "orig_nbformat": 4
 },
 "nbformat": 4,
 "nbformat_minor": 2
}
